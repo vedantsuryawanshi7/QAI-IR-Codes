{
 "cells": [
  {
   "cell_type": "code",
   "execution_count": 2,
   "id": "d649c544-e66e-4d83-b425-ff7ceeb91593",
   "metadata": {},
   "outputs": [],
   "source": [
    "import random"
   ]
  },
  {
   "cell_type": "code",
   "execution_count": 10,
   "id": "f6822bc8-ec77-424a-b920-dcf5b22b24fa",
   "metadata": {},
   "outputs": [
    {
     "name": "stdout",
     "output_type": "stream",
     "text": [
      "Original data bits: 1011\n",
      "Encoded bits with parity: [0, 1, 1, 0, 0, 1, 1]\n",
      "Encoded bits after introducing error at position 4: [0, 1, 1, 1, 0, 1, 1]\n",
      "Error detected at position 4. Correcting it.\n",
      "Decoded data bits after error correction: 1011\n"
     ]
    }
   ],
   "source": [
    "\n",
    "def calculate_parity_bits(data_bits):\n",
    "    \"\"\"Calculate the required number of parity bits for a given data size.\"\"\"\n",
    "    m = len(data_bits)\n",
    "    r = 0\n",
    "    while (2 ** r) < (m + r + 1):\n",
    "        r += 1\n",
    "    return r\n",
    "\n",
    "def hamming_encode(data_bits):\n",
    "    \"\"\"Encodes the data bits using Hamming Code and inserts parity bits.\"\"\"\n",
    "    m = len(data_bits)\n",
    "    r = calculate_parity_bits(data_bits)\n",
    "    n = m + r\n",
    "\n",
    "    # Place data bits and parity bits\n",
    "    encoded_bits = [0] * n\n",
    "    j = 0  # Data bit index\n",
    "    for i in range(1, n + 1):\n",
    "        if i & (i - 1) == 0:  # Check if i is a power of 2 (position for parity bit)\n",
    "            encoded_bits[i - 1] = 0  # Placeholder for parity bit\n",
    "        else:\n",
    "            encoded_bits[i - 1] = int(data_bits[j])\n",
    "            j += 1\n",
    "\n",
    "    # Calculate parity bits using XOR\n",
    "    for i in range(r):\n",
    "        parity_position = 2 ** i - 1\n",
    "        parity = 0\n",
    "        for j in range(parity_position, n, 2 * (parity_position + 1)):\n",
    "            parity ^= sum(encoded_bits[j: j + parity_position + 1]) % 2  # XOR the covered bits\n",
    "        encoded_bits[parity_position] = parity\n",
    "\n",
    "    return encoded_bits\n",
    "\n",
    "def introduce_error(encoded_bits):\n",
    "    \"\"\"Introduces a single-bit error at a random position in the encoded bits.\"\"\"\n",
    "    error_position = random.randint(0, len(encoded_bits) - 1)  # Random position for error\n",
    "    encoded_bits[error_position] ^= 1  # Flip the bit to introduce an error\n",
    "    return error_position\n",
    "\n",
    "def hamming_decode(encoded_bits):\n",
    "    \"\"\"Detects and corrects any single-bit error in the encoded bits.\"\"\"\n",
    "    n = len(encoded_bits)\n",
    "    error_position = 0\n",
    "\n",
    "    # Check all parity bits\n",
    "    for i in range(int.bit_length(n)):\n",
    "        parity_position = 2 ** i - 1\n",
    "        parity = 0\n",
    "        for j in range(parity_position, n, 2 * (parity_position + 1)):\n",
    "            parity ^= sum(encoded_bits[j:j + parity_position + 1]) % 2  # XOR the covered bits\n",
    "        if parity != 0:\n",
    "            error_position += parity_position + 1\n",
    "\n",
    "    # Correct the error if there is one\n",
    "    if error_position > 0:\n",
    "        print(f\"Error detected at position {error_position}. Correcting it.\")\n",
    "        encoded_bits[error_position - 1] ^= 1\n",
    "    else:\n",
    "        print(\"No error detected.\")\n",
    "\n",
    "    # Extract the original data bits (remove parity bits)\n",
    "    data_bits = []\n",
    "    for i in range(1, n + 1):\n",
    "        if not (i & (i - 1) == 0):  # Exclude parity bit positions\n",
    "            data_bits.append(encoded_bits[i - 1])\n",
    "\n",
    "    return data_bits\n",
    "\n",
    "# Example Usage:\n",
    "data_bits = \"1011\"  # Example 4-bit data to encode\n",
    "print(\"Original data bits:\", data_bits)\n",
    "\n",
    "# Encode the data bits\n",
    "encoded_bits = hamming_encode(data_bits)\n",
    "print(\"Encoded bits with parity:\", encoded_bits)\n",
    "\n",
    "# Introduce a random error\n",
    "error_position = introduce_error(encoded_bits)\n",
    "print(f\"Encoded bits after introducing error at position {error_position + 1}:\", encoded_bits)\n",
    "\n",
    "# Decode and correct the error\n",
    "decoded_data = hamming_decode(encoded_bits)\n",
    "print(\"Decoded data bits after error correction:\", \"\".join(map(str, decoded_data)))\n"
   ]
  },
  {
   "cell_type": "code",
   "execution_count": null,
   "id": "c7cd9fda-ae12-4b6e-82bb-ce699d358365",
   "metadata": {},
   "outputs": [],
   "source": []
  }
 ],
 "metadata": {
  "kernelspec": {
   "display_name": "Python 3 (ipykernel)",
   "language": "python",
   "name": "python3"
  },
  "language_info": {
   "codemirror_mode": {
    "name": "ipython",
    "version": 3
   },
   "file_extension": ".py",
   "mimetype": "text/x-python",
   "name": "python",
   "nbconvert_exporter": "python",
   "pygments_lexer": "ipython3",
   "version": "3.11.5"
  }
 },
 "nbformat": 4,
 "nbformat_minor": 5
}
