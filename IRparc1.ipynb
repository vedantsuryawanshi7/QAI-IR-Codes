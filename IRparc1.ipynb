{
 "cells": [
  {
   "cell_type": "code",
   "execution_count": 2,
   "id": "59a126a9-e77f-451f-a761-af760a677005",
   "metadata": {},
   "outputs": [],
   "source": [
    "import nltk"
   ]
  },
  {
   "cell_type": "code",
   "execution_count": 3,
   "id": "1456f650-47d8-4f92-9b9b-f71c1effeeee",
   "metadata": {},
   "outputs": [],
   "source": [
    "from nltk.corpus import stopwords            \n",
    "from nltk.tokenize import word_tokenize    \n",
    "from nltk.stem import PorterStemmer"
   ]
  },
  {
   "cell_type": "code",
   "execution_count": 4,
   "id": "bb81b737-4365-4f85-baa7-32f880b4da73",
   "metadata": {},
   "outputs": [],
   "source": [
    "#nltk.download('punkt')\n",
    "#nltk.download('wordnet')\n",
    "#nltk.download('stopwords')"
   ]
  },
  {
   "cell_type": "code",
   "execution_count": 5,
   "id": "1b10392f-714a-4dd7-b01e-0c3cc74ad215",
   "metadata": {},
   "outputs": [],
   "source": [
    "def preprocess_text(text):\n",
    "    \n",
    "    # Initialize the Porter Stemmer\n",
    "    stemmer = PorterStemmer()\n",
    "    \n",
    "    # Define the stop words in English\n",
    "    stop_words = set(stopwords.words('english'))\n",
    "    \n",
    "    # Tokenize the text\n",
    "    words = word_tokenize(text, language='english')\n",
    "    \n",
    "    # Remove stop words and apply stemming\n",
    "    preprocessed_words = [stemmer.stem(word) for word in words if word.lower() not in stop_words and word.isalpha()]\n",
    "    \n",
    "    # Join the processed words into a single string\n",
    "    return ' '.join(preprocessed_words)"
   ]
  },
  {
   "cell_type": "code",
   "execution_count": 6,
   "id": "5916c350-469f-42f9-9234-1547f44bc8df",
   "metadata": {},
   "outputs": [],
   "source": [
    "sample_text = \"\"\"\n",
    "Information retrieval is the activity of obtaining information system resources                      \n",
    "that are relevant to an information need from a collection of those resources. \n",
    "Searches can be based on full-text or other content-based indexing. Web mining \n",
    "is a part of data mining techniques used to extract information from web documents.\n",
    "\"\"\""
   ]
  },
  {
   "cell_type": "code",
   "execution_count": 7,
   "id": "a75f9a33-fd89-48e0-970e-c70b05c4f7a8",
   "metadata": {},
   "outputs": [
    {
     "name": "stdout",
     "output_type": "stream",
     "text": [
      "Original Text:\n",
      " \n",
      "Information retrieval is the activity of obtaining information system resources                      \n",
      "that are relevant to an information need from a collection of those resources. \n",
      "Searches can be based on full-text or other content-based indexing. Web mining \n",
      "is a part of data mining techniques used to extract information from web documents.\n",
      "\n",
      "\n",
      "Preprocessed Text:\n",
      " inform retriev activ obtain inform system resourc relev inform need collect resourc search base index web mine part data mine techniqu use extract inform web document\n"
     ]
    }
   ],
   "source": [
    "result = preprocess_text(sample_text)\n",
    "\n",
    "# Evaluation and comparison\n",
    "print(\"Original Text:\\n\", sample_text)\n",
    "print(\"\\nPreprocessed Text:\\n\", result)"
   ]
  },
  {
   "cell_type": "code",
   "execution_count": null,
   "id": "f547ffbf-8939-492e-bd1f-a5a30e97eacd",
   "metadata": {},
   "outputs": [],
   "source": []
  }
 ],
 "metadata": {
  "kernelspec": {
   "display_name": "Python 3 (ipykernel)",
   "language": "python",
   "name": "python3"
  },
  "language_info": {
   "codemirror_mode": {
    "name": "ipython",
    "version": 3
   },
   "file_extension": ".py",
   "mimetype": "text/x-python",
   "name": "python",
   "nbconvert_exporter": "python",
   "pygments_lexer": "ipython3",
   "version": "3.12.2"
  },
  "widgets": {
   "application/vnd.jupyter.widget-state+json": {
    "state": {},
    "version_major": 2,
    "version_minor": 0
   }
  }
 },
 "nbformat": 4,
 "nbformat_minor": 5
}
