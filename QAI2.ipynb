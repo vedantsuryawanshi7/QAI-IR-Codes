import random

def calculate_parity_bits(data_bits):
    """Calculate the required number of parity bits for a given data size."""
    m = len(data_bits)
    r = 0
    while (2 ** r) < (m + r + 1):
        r += 1
    return r

def hamming_encode(data_bits):
    """Encodes the data bits using Hamming Code and inserts parity bits."""
    m = len(data_bits)
    r = calculate_parity_bits(data_bits)
    n = m + r

    # Place data bits and parity bits
    encoded_bits = [0] * n
    j = 0  # Data bit index
    for i in range(1, n + 1):
        if i & (i - 1) == 0:  # Check if i is a power of 2 (position for parity bit)
            encoded_bits[i - 1] = 0  # Placeholder for parity bit
        else:
            encoded_bits[i - 1] = int(data_bits[j])
            j += 1

    # Calculate parity bits using XOR
    for i in range(r):
        parity_position = 2 ** i - 1
        parity = 0
        for j in range(parity_position, n, 2 * (parity_position + 1)):
            parity ^= sum(encoded_bits[j: j + parity_position + 1]) % 2  # XOR the covered bits
        encoded_bits[parity_position] = parity

    return encoded_bits

def introduce_error(encoded_bits):
    """Introduces a single-bit error at a random position in the encoded bits."""
    error_position = random.randint(0, len(encoded_bits) - 1)  # Random position for error
    encoded_bits[error_position] ^= 1  # Flip the bit to introduce an error
    return error_position

def hamming_decode(encoded_bits):
    """Detects and corrects any single-bit error in the encoded bits."""
    n = len(encoded_bits)
    error_position = 0

    # Check all parity bits
    for i in range(int.bit_length(n)):
        parity_position = 2 ** i - 1
        parity = 0
        for j in range(parity_position, n, 2 * (parity_position + 1)):
            parity ^= sum(encoded_bits[j:j + parity_position + 1]) % 2  # XOR the covered bits
        if parity != 0:
            error_position += parity_position + 1

    # Correct the error if there is one
    if error_position > 0:
        print(f"Error detected at position {error_position}. Correcting it.")
        encoded_bits[error_position - 1] ^= 1
    else:
        print("No error detected.")

    # Extract the original data bits (remove parity bits)
    data_bits = []
    for i in range(1, n + 1):
        if not (i & (i - 1) == 0):  # Exclude parity bit positions
            data_bits.append(encoded_bits[i - 1])

    return data_bits

# Example Usage:
data_bits = "1011"  # Example 4-bit data to encode
print("Original data bits:", data_bits)

# Encode the data bits
encoded_bits = hamming_encode(data_bits)
print("Encoded bits with parity:", encoded_bits)

# Introduce a random error
error_position = introduce_error(encoded_bits)
print(f"Encoded bits after introducing error at position {error_position + 1}:", encoded_bits)

# Decode and correct the error
decoded_data = hamming_decode(encoded_bits)
print("Decoded data bits after error correction:", "".join(map(str, decoded_data)))
